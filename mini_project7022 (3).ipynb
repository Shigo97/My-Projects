{
 "cells": [
  {
   "cell_type": "code",
   "execution_count": 1,
   "metadata": {
    "colab": {
     "base_uri": "https://localhost:8080/"
    },
    "id": "biBu0u4Zt2qV",
    "outputId": "e729914b-b66d-4a44-c29f-14916adad792"
   },
   "outputs": [
    {
     "name": "stdout",
     "output_type": "stream",
     "text": [
      "Mounted at /content/drive\n"
     ]
    }
   ],
   "source": [
    "import os\n",
    "from google.colab import drive\n",
    "\n",
    "# Mount Google Drive.\n",
    "drive.mount('/content/drive')"
   ]
  },
  {
   "cell_type": "code",
   "execution_count": 2,
   "metadata": {
    "id": "T9grNAIauem3"
   },
   "outputs": [],
   "source": [
    "# Change the current working directory to Google Drive.\n",
    "os.chdir('/content/drive/MyDrive/mini project 7022')"
   ]
  },
  {
   "cell_type": "code",
   "execution_count": 3,
   "metadata": {
    "id": "7xFcv6mOvR1k"
   },
   "outputs": [],
   "source": [
    "import pandas as pd\n",
    "import numpy as np\n",
    "from sklearn.cluster import KMeans\n",
    "from sklearn.preprocessing import StandardScaler\n",
    "import matplotlib.pyplot as plt"
   ]
  },
  {
   "cell_type": "code",
   "execution_count": 4,
   "metadata": {
    "colab": {
     "base_uri": "https://localhost:8080/",
     "height": 488
    },
    "id": "eQHngibmv9qo",
    "outputId": "e83e91a5-9d1c-4494-908e-8ec3b0d1567e"
   },
   "outputs": [
    {
     "data": {
      "text/html": [
       "\n",
       "  <div id=\"df-0ae8ee73-d2be-476e-9736-435d59e8d259\">\n",
       "    <div class=\"colab-df-container\">\n",
       "      <div>\n",
       "<style scoped>\n",
       "    .dataframe tbody tr th:only-of-type {\n",
       "        vertical-align: middle;\n",
       "    }\n",
       "\n",
       "    .dataframe tbody tr th {\n",
       "        vertical-align: top;\n",
       "    }\n",
       "\n",
       "    .dataframe thead th {\n",
       "        text-align: right;\n",
       "    }\n",
       "</style>\n",
       "<table border=\"1\" class=\"dataframe\">\n",
       "  <thead>\n",
       "    <tr style=\"text-align: right;\">\n",
       "      <th></th>\n",
       "      <th>basketball</th>\n",
       "      <th>football</th>\n",
       "      <th>soccer</th>\n",
       "      <th>softball</th>\n",
       "      <th>volleyball</th>\n",
       "      <th>swimming</th>\n",
       "      <th>cheerleading</th>\n",
       "      <th>baseball</th>\n",
       "      <th>tennis</th>\n",
       "      <th>sports</th>\n",
       "      <th>...</th>\n",
       "      <th>blonde</th>\n",
       "      <th>mall</th>\n",
       "      <th>shopping</th>\n",
       "      <th>clothes</th>\n",
       "      <th>hollister</th>\n",
       "      <th>abercrombie</th>\n",
       "      <th>die</th>\n",
       "      <th>death</th>\n",
       "      <th>drunk</th>\n",
       "      <th>drugs</th>\n",
       "    </tr>\n",
       "  </thead>\n",
       "  <tbody>\n",
       "    <tr>\n",
       "      <th>0</th>\n",
       "      <td>-0.332212</td>\n",
       "      <td>-0.357691</td>\n",
       "      <td>-0.24287</td>\n",
       "      <td>-0.217924</td>\n",
       "      <td>-0.223666</td>\n",
       "      <td>-0.259966</td>\n",
       "      <td>-0.207324</td>\n",
       "      <td>-0.201127</td>\n",
       "      <td>-0.168936</td>\n",
       "      <td>-0.297118</td>\n",
       "      <td>...</td>\n",
       "      <td>-0.050936</td>\n",
       "      <td>-0.369909</td>\n",
       "      <td>-0.487306</td>\n",
       "      <td>-0.314193</td>\n",
       "      <td>-0.201473</td>\n",
       "      <td>-0.183029</td>\n",
       "      <td>-0.294788</td>\n",
       "      <td>-0.261526</td>\n",
       "      <td>-0.220399</td>\n",
       "      <td>-0.174905</td>\n",
       "    </tr>\n",
       "    <tr>\n",
       "      <th>1</th>\n",
       "      <td>-0.332212</td>\n",
       "      <td>1.060031</td>\n",
       "      <td>-0.24287</td>\n",
       "      <td>-0.217924</td>\n",
       "      <td>-0.223666</td>\n",
       "      <td>-0.259966</td>\n",
       "      <td>-0.207324</td>\n",
       "      <td>-0.201127</td>\n",
       "      <td>-0.168936</td>\n",
       "      <td>-0.297118</td>\n",
       "      <td>...</td>\n",
       "      <td>-0.050936</td>\n",
       "      <td>1.067374</td>\n",
       "      <td>-0.487306</td>\n",
       "      <td>-0.314193</td>\n",
       "      <td>-0.201473</td>\n",
       "      <td>-0.183029</td>\n",
       "      <td>-0.294788</td>\n",
       "      <td>-0.261526</td>\n",
       "      <td>-0.220399</td>\n",
       "      <td>-0.174905</td>\n",
       "    </tr>\n",
       "    <tr>\n",
       "      <th>2</th>\n",
       "      <td>-0.332212</td>\n",
       "      <td>1.060031</td>\n",
       "      <td>-0.24287</td>\n",
       "      <td>-0.217924</td>\n",
       "      <td>-0.223666</td>\n",
       "      <td>-0.259966</td>\n",
       "      <td>-0.207324</td>\n",
       "      <td>-0.201127</td>\n",
       "      <td>-0.168936</td>\n",
       "      <td>-0.297118</td>\n",
       "      <td>...</td>\n",
       "      <td>-0.050936</td>\n",
       "      <td>-0.369909</td>\n",
       "      <td>-0.487306</td>\n",
       "      <td>-0.314193</td>\n",
       "      <td>-0.201473</td>\n",
       "      <td>-0.183029</td>\n",
       "      <td>-0.294788</td>\n",
       "      <td>2.027874</td>\n",
       "      <td>-0.220399</td>\n",
       "      <td>-0.174905</td>\n",
       "    </tr>\n",
       "    <tr>\n",
       "      <th>3</th>\n",
       "      <td>-0.332212</td>\n",
       "      <td>-0.357691</td>\n",
       "      <td>-0.24287</td>\n",
       "      <td>-0.217924</td>\n",
       "      <td>-0.223666</td>\n",
       "      <td>-0.259966</td>\n",
       "      <td>-0.207324</td>\n",
       "      <td>-0.201127</td>\n",
       "      <td>-0.168936</td>\n",
       "      <td>-0.297118</td>\n",
       "      <td>...</td>\n",
       "      <td>-0.050936</td>\n",
       "      <td>-0.369909</td>\n",
       "      <td>-0.487306</td>\n",
       "      <td>-0.314193</td>\n",
       "      <td>-0.201473</td>\n",
       "      <td>-0.183029</td>\n",
       "      <td>-0.294788</td>\n",
       "      <td>-0.261526</td>\n",
       "      <td>-0.220399</td>\n",
       "      <td>-0.174905</td>\n",
       "    </tr>\n",
       "    <tr>\n",
       "      <th>4</th>\n",
       "      <td>-0.332212</td>\n",
       "      <td>-0.357691</td>\n",
       "      <td>-0.24287</td>\n",
       "      <td>-0.217924</td>\n",
       "      <td>-0.223666</td>\n",
       "      <td>-0.259966</td>\n",
       "      <td>-0.207324</td>\n",
       "      <td>-0.201127</td>\n",
       "      <td>-0.168936</td>\n",
       "      <td>-0.297118</td>\n",
       "      <td>...</td>\n",
       "      <td>-0.050936</td>\n",
       "      <td>-0.369909</td>\n",
       "      <td>2.273635</td>\n",
       "      <td>-0.314193</td>\n",
       "      <td>-0.201473</td>\n",
       "      <td>-0.183029</td>\n",
       "      <td>-0.294788</td>\n",
       "      <td>-0.261526</td>\n",
       "      <td>2.285084</td>\n",
       "      <td>2.719271</td>\n",
       "    </tr>\n",
       "    <tr>\n",
       "      <th>...</th>\n",
       "      <td>...</td>\n",
       "      <td>...</td>\n",
       "      <td>...</td>\n",
       "      <td>...</td>\n",
       "      <td>...</td>\n",
       "      <td>...</td>\n",
       "      <td>...</td>\n",
       "      <td>...</td>\n",
       "      <td>...</td>\n",
       "      <td>...</td>\n",
       "      <td>...</td>\n",
       "      <td>...</td>\n",
       "      <td>...</td>\n",
       "      <td>...</td>\n",
       "      <td>...</td>\n",
       "      <td>...</td>\n",
       "      <td>...</td>\n",
       "      <td>...</td>\n",
       "      <td>...</td>\n",
       "      <td>...</td>\n",
       "      <td>...</td>\n",
       "    </tr>\n",
       "    <tr>\n",
       "      <th>29995</th>\n",
       "      <td>-0.332212</td>\n",
       "      <td>-0.357691</td>\n",
       "      <td>-0.24287</td>\n",
       "      <td>-0.217924</td>\n",
       "      <td>-0.223666</td>\n",
       "      <td>-0.259966</td>\n",
       "      <td>-0.207324</td>\n",
       "      <td>-0.201127</td>\n",
       "      <td>-0.168936</td>\n",
       "      <td>-0.297118</td>\n",
       "      <td>...</td>\n",
       "      <td>-0.050936</td>\n",
       "      <td>-0.369909</td>\n",
       "      <td>-0.487306</td>\n",
       "      <td>-0.314193</td>\n",
       "      <td>-0.201473</td>\n",
       "      <td>-0.183029</td>\n",
       "      <td>-0.294788</td>\n",
       "      <td>-0.261526</td>\n",
       "      <td>-0.220399</td>\n",
       "      <td>-0.174905</td>\n",
       "    </tr>\n",
       "    <tr>\n",
       "      <th>29996</th>\n",
       "      <td>-0.332212</td>\n",
       "      <td>1.060031</td>\n",
       "      <td>-0.24287</td>\n",
       "      <td>-0.217924</td>\n",
       "      <td>-0.223666</td>\n",
       "      <td>-0.259966</td>\n",
       "      <td>-0.207324</td>\n",
       "      <td>-0.201127</td>\n",
       "      <td>-0.168936</td>\n",
       "      <td>-0.297118</td>\n",
       "      <td>...</td>\n",
       "      <td>-0.050936</td>\n",
       "      <td>-0.369909</td>\n",
       "      <td>-0.487306</td>\n",
       "      <td>-0.314193</td>\n",
       "      <td>-0.201473</td>\n",
       "      <td>-0.183029</td>\n",
       "      <td>-0.294788</td>\n",
       "      <td>-0.261526</td>\n",
       "      <td>-0.220399</td>\n",
       "      <td>-0.174905</td>\n",
       "    </tr>\n",
       "    <tr>\n",
       "      <th>29997</th>\n",
       "      <td>-0.332212</td>\n",
       "      <td>1.060031</td>\n",
       "      <td>-0.24287</td>\n",
       "      <td>-0.217924</td>\n",
       "      <td>-0.223666</td>\n",
       "      <td>-0.259966</td>\n",
       "      <td>-0.207324</td>\n",
       "      <td>1.715587</td>\n",
       "      <td>-0.168936</td>\n",
       "      <td>-0.297118</td>\n",
       "      <td>...</td>\n",
       "      <td>-0.050936</td>\n",
       "      <td>-0.369909</td>\n",
       "      <td>-0.487306</td>\n",
       "      <td>-0.314193</td>\n",
       "      <td>-0.201473</td>\n",
       "      <td>-0.183029</td>\n",
       "      <td>-0.294788</td>\n",
       "      <td>-0.261526</td>\n",
       "      <td>-0.220399</td>\n",
       "      <td>-0.174905</td>\n",
       "    </tr>\n",
       "    <tr>\n",
       "      <th>29998</th>\n",
       "      <td>-0.332212</td>\n",
       "      <td>-0.357691</td>\n",
       "      <td>-0.24287</td>\n",
       "      <td>-0.217924</td>\n",
       "      <td>-0.223666</td>\n",
       "      <td>-0.259966</td>\n",
       "      <td>-0.207324</td>\n",
       "      <td>-0.201127</td>\n",
       "      <td>-0.168936</td>\n",
       "      <td>-0.297118</td>\n",
       "      <td>...</td>\n",
       "      <td>-0.050936</td>\n",
       "      <td>-0.369909</td>\n",
       "      <td>-0.487306</td>\n",
       "      <td>-0.314193</td>\n",
       "      <td>-0.201473</td>\n",
       "      <td>-0.183029</td>\n",
       "      <td>-0.294788</td>\n",
       "      <td>-0.261526</td>\n",
       "      <td>-0.220399</td>\n",
       "      <td>-0.174905</td>\n",
       "    </tr>\n",
       "    <tr>\n",
       "      <th>29999</th>\n",
       "      <td>2.153163</td>\n",
       "      <td>-0.357691</td>\n",
       "      <td>-0.24287</td>\n",
       "      <td>1.133963</td>\n",
       "      <td>-0.223666</td>\n",
       "      <td>-0.259966</td>\n",
       "      <td>-0.207324</td>\n",
       "      <td>-0.201127</td>\n",
       "      <td>-0.168936</td>\n",
       "      <td>-0.297118</td>\n",
       "      <td>...</td>\n",
       "      <td>-0.050936</td>\n",
       "      <td>-0.369909</td>\n",
       "      <td>-0.487306</td>\n",
       "      <td>-0.314193</td>\n",
       "      <td>-0.201473</td>\n",
       "      <td>-0.183029</td>\n",
       "      <td>-0.294788</td>\n",
       "      <td>-0.261526</td>\n",
       "      <td>-0.220399</td>\n",
       "      <td>-0.174905</td>\n",
       "    </tr>\n",
       "  </tbody>\n",
       "</table>\n",
       "<p>30000 rows × 36 columns</p>\n",
       "</div>\n",
       "      <button class=\"colab-df-convert\" onclick=\"convertToInteractive('df-0ae8ee73-d2be-476e-9736-435d59e8d259')\"\n",
       "              title=\"Convert this dataframe to an interactive table.\"\n",
       "              style=\"display:none;\">\n",
       "        \n",
       "  <svg xmlns=\"http://www.w3.org/2000/svg\" height=\"24px\"viewBox=\"0 0 24 24\"\n",
       "       width=\"24px\">\n",
       "    <path d=\"M0 0h24v24H0V0z\" fill=\"none\"/>\n",
       "    <path d=\"M18.56 5.44l.94 2.06.94-2.06 2.06-.94-2.06-.94-.94-2.06-.94 2.06-2.06.94zm-11 1L8.5 8.5l.94-2.06 2.06-.94-2.06-.94L8.5 2.5l-.94 2.06-2.06.94zm10 10l.94 2.06.94-2.06 2.06-.94-2.06-.94-.94-2.06-.94 2.06-2.06.94z\"/><path d=\"M17.41 7.96l-1.37-1.37c-.4-.4-.92-.59-1.43-.59-.52 0-1.04.2-1.43.59L10.3 9.45l-7.72 7.72c-.78.78-.78 2.05 0 2.83L4 21.41c.39.39.9.59 1.41.59.51 0 1.02-.2 1.41-.59l7.78-7.78 2.81-2.81c.8-.78.8-2.07 0-2.86zM5.41 20L4 18.59l7.72-7.72 1.47 1.35L5.41 20z\"/>\n",
       "  </svg>\n",
       "      </button>\n",
       "      \n",
       "  <style>\n",
       "    .colab-df-container {\n",
       "      display:flex;\n",
       "      flex-wrap:wrap;\n",
       "      gap: 12px;\n",
       "    }\n",
       "\n",
       "    .colab-df-convert {\n",
       "      background-color: #E8F0FE;\n",
       "      border: none;\n",
       "      border-radius: 50%;\n",
       "      cursor: pointer;\n",
       "      display: none;\n",
       "      fill: #1967D2;\n",
       "      height: 32px;\n",
       "      padding: 0 0 0 0;\n",
       "      width: 32px;\n",
       "    }\n",
       "\n",
       "    .colab-df-convert:hover {\n",
       "      background-color: #E2EBFA;\n",
       "      box-shadow: 0px 1px 2px rgba(60, 64, 67, 0.3), 0px 1px 3px 1px rgba(60, 64, 67, 0.15);\n",
       "      fill: #174EA6;\n",
       "    }\n",
       "\n",
       "    [theme=dark] .colab-df-convert {\n",
       "      background-color: #3B4455;\n",
       "      fill: #D2E3FC;\n",
       "    }\n",
       "\n",
       "    [theme=dark] .colab-df-convert:hover {\n",
       "      background-color: #434B5C;\n",
       "      box-shadow: 0px 1px 3px 1px rgba(0, 0, 0, 0.15);\n",
       "      filter: drop-shadow(0px 1px 2px rgba(0, 0, 0, 0.3));\n",
       "      fill: #FFFFFF;\n",
       "    }\n",
       "  </style>\n",
       "\n",
       "      <script>\n",
       "        const buttonEl =\n",
       "          document.querySelector('#df-0ae8ee73-d2be-476e-9736-435d59e8d259 button.colab-df-convert');\n",
       "        buttonEl.style.display =\n",
       "          google.colab.kernel.accessAllowed ? 'block' : 'none';\n",
       "\n",
       "        async function convertToInteractive(key) {\n",
       "          const element = document.querySelector('#df-0ae8ee73-d2be-476e-9736-435d59e8d259');\n",
       "          const dataTable =\n",
       "            await google.colab.kernel.invokeFunction('convertToInteractive',\n",
       "                                                     [key], {});\n",
       "          if (!dataTable) return;\n",
       "\n",
       "          const docLinkHtml = 'Like what you see? Visit the ' +\n",
       "            '<a target=\"_blank\" href=https://colab.research.google.com/notebooks/data_table.ipynb>data table notebook</a>'\n",
       "            + ' to learn more about interactive tables.';\n",
       "          element.innerHTML = '';\n",
       "          dataTable['output_type'] = 'display_data';\n",
       "          await google.colab.output.renderOutput(dataTable, element);\n",
       "          const docLink = document.createElement('div');\n",
       "          docLink.innerHTML = docLinkHtml;\n",
       "          element.appendChild(docLink);\n",
       "        }\n",
       "      </script>\n",
       "    </div>\n",
       "  </div>\n",
       "  "
      ],
      "text/plain": [
       "       basketball  football   soccer  softball  volleyball  swimming  \\\n",
       "0       -0.332212 -0.357691 -0.24287 -0.217924   -0.223666 -0.259966   \n",
       "1       -0.332212  1.060031 -0.24287 -0.217924   -0.223666 -0.259966   \n",
       "2       -0.332212  1.060031 -0.24287 -0.217924   -0.223666 -0.259966   \n",
       "3       -0.332212 -0.357691 -0.24287 -0.217924   -0.223666 -0.259966   \n",
       "4       -0.332212 -0.357691 -0.24287 -0.217924   -0.223666 -0.259966   \n",
       "...           ...       ...      ...       ...         ...       ...   \n",
       "29995   -0.332212 -0.357691 -0.24287 -0.217924   -0.223666 -0.259966   \n",
       "29996   -0.332212  1.060031 -0.24287 -0.217924   -0.223666 -0.259966   \n",
       "29997   -0.332212  1.060031 -0.24287 -0.217924   -0.223666 -0.259966   \n",
       "29998   -0.332212 -0.357691 -0.24287 -0.217924   -0.223666 -0.259966   \n",
       "29999    2.153163 -0.357691 -0.24287  1.133963   -0.223666 -0.259966   \n",
       "\n",
       "       cheerleading  baseball    tennis    sports  ...    blonde      mall  \\\n",
       "0         -0.207324 -0.201127 -0.168936 -0.297118  ... -0.050936 -0.369909   \n",
       "1         -0.207324 -0.201127 -0.168936 -0.297118  ... -0.050936  1.067374   \n",
       "2         -0.207324 -0.201127 -0.168936 -0.297118  ... -0.050936 -0.369909   \n",
       "3         -0.207324 -0.201127 -0.168936 -0.297118  ... -0.050936 -0.369909   \n",
       "4         -0.207324 -0.201127 -0.168936 -0.297118  ... -0.050936 -0.369909   \n",
       "...             ...       ...       ...       ...  ...       ...       ...   \n",
       "29995     -0.207324 -0.201127 -0.168936 -0.297118  ... -0.050936 -0.369909   \n",
       "29996     -0.207324 -0.201127 -0.168936 -0.297118  ... -0.050936 -0.369909   \n",
       "29997     -0.207324  1.715587 -0.168936 -0.297118  ... -0.050936 -0.369909   \n",
       "29998     -0.207324 -0.201127 -0.168936 -0.297118  ... -0.050936 -0.369909   \n",
       "29999     -0.207324 -0.201127 -0.168936 -0.297118  ... -0.050936 -0.369909   \n",
       "\n",
       "       shopping   clothes  hollister  abercrombie       die     death  \\\n",
       "0     -0.487306 -0.314193  -0.201473    -0.183029 -0.294788 -0.261526   \n",
       "1     -0.487306 -0.314193  -0.201473    -0.183029 -0.294788 -0.261526   \n",
       "2     -0.487306 -0.314193  -0.201473    -0.183029 -0.294788  2.027874   \n",
       "3     -0.487306 -0.314193  -0.201473    -0.183029 -0.294788 -0.261526   \n",
       "4      2.273635 -0.314193  -0.201473    -0.183029 -0.294788 -0.261526   \n",
       "...         ...       ...        ...          ...       ...       ...   \n",
       "29995 -0.487306 -0.314193  -0.201473    -0.183029 -0.294788 -0.261526   \n",
       "29996 -0.487306 -0.314193  -0.201473    -0.183029 -0.294788 -0.261526   \n",
       "29997 -0.487306 -0.314193  -0.201473    -0.183029 -0.294788 -0.261526   \n",
       "29998 -0.487306 -0.314193  -0.201473    -0.183029 -0.294788 -0.261526   \n",
       "29999 -0.487306 -0.314193  -0.201473    -0.183029 -0.294788 -0.261526   \n",
       "\n",
       "          drunk     drugs  \n",
       "0     -0.220399 -0.174905  \n",
       "1     -0.220399 -0.174905  \n",
       "2     -0.220399 -0.174905  \n",
       "3     -0.220399 -0.174905  \n",
       "4      2.285084  2.719271  \n",
       "...         ...       ...  \n",
       "29995 -0.220399 -0.174905  \n",
       "29996 -0.220399 -0.174905  \n",
       "29997 -0.220399 -0.174905  \n",
       "29998 -0.220399 -0.174905  \n",
       "29999 -0.220399 -0.174905  \n",
       "\n",
       "[30000 rows x 36 columns]"
      ]
     },
     "execution_count": 4,
     "metadata": {},
     "output_type": "execute_result"
    }
   ],
   "source": [
    "new_df = pd.read_csv('sns_preprecossed.csv')\n",
    "new_df\n"
   ]
  },
  {
   "cell_type": "code",
   "execution_count": 5,
   "metadata": {
    "id": "m6supmoN9ooC"
   },
   "outputs": [],
   "source": [
    "X = new_df\n",
    "X_scaled = StandardScaler().fit_transform(X)  # Scale data"
   ]
  },
  {
   "cell_type": "markdown",
   "metadata": {
    "id": "x0lhWNs2w1rj"
   },
   "source": [
    "We utilized a preprocessed dataset which was assigned to the dataframe '**new_df**\n",
    "\n",
    "\n"
   ]
  },
  {
   "cell_type": "code",
   "execution_count": 6,
   "metadata": {
    "id": "9h0jB0mxxq2V"
   },
   "outputs": [],
   "source": [
    "# Initialize variables for SeCo map\n",
    "separation_scores = []\n",
    "cramer_v_scores = []"
   ]
  },
  {
   "cell_type": "code",
   "execution_count": 7,
   "metadata": {
    "id": "UqcUyW7kaH5J"
   },
   "outputs": [],
   "source": [
    "k_values = range(2, 14)"
   ]
  },
  {
   "cell_type": "code",
   "execution_count": 9,
   "metadata": {
    "id": "c5uW9_ICxH0A"
   },
   "outputs": [],
   "source": [
    "#parallelize the loop using the Pool class from the multiprocessing library:\n",
    "from multiprocessing import Pool   \n",
    "# Perform k-means clustering for each value of k\n",
    "for k in k_values:\n",
    "    # Initialize k-means object\n",
    "    kmeans = KMeans(n_clusters=k, n_init=500, random_state=42)\n",
    "    \n",
    "    # Fit k-means object to data\n",
    "    kmeans.fit(X_scaled)\n",
    "    # Calculate within-cluster sum of squares\n",
    "    wcss = kmeans.inertia_\n",
    "    # Calculate total sum of squares\n",
    "    total_ssq = np.sum((X_scaled - np.mean(X_scaled, axis=0))**2)\n",
    "    separation_score = (total_ssq - wcss) / total_ssq\n",
    "    separation_scores.append(separation_score)\n",
    "    \n",
    "    # Get cluster labels\n",
    "    cluster_labels = kmeans.labels_\n",
    "    \n",
    "    # Calculate Cramer's V index of concordance\n",
    "    n = len(cluster_labels)\n",
    "    contingency_table = np.zeros((k, k))\n",
    "    for i in range(n):\n",
    "        for j in range(i+1, n):\n",
    "            contingency_table[cluster_labels[i], cluster_labels[j]] += 1\n",
    "    contingency_table += contingency_table.T\n",
    "    expected_table = np.outer(np.sum(contingency_table, axis=1), np.sum(contingency_table, axis=0)) / np.sum(contingency_table)\n",
    "    chi_squared = np.sum((contingency_table - expected_table)**2 / expected_table)\n",
    "    cramer_v_score = np.sqrt(chi_squared / (n*(min(k, k)-1)))\n",
    "    cramer_v_scores.append(cramer_v_score)\n",
    "    \n",
    "if __name__ == '__main__':\n",
    " # Define the k values to process \n",
    "   k_value = [2, 3, 4, 5, 6]\n",
    "    \n",
    " # Create a pool of worker processes\n",
    "   pool = Pool()\n",
    "    \n",
    "# Process each k value in parallel\n",
    "def process_k(k):\n",
    "   pool.map(process_k, k_value)\n",
    "    \n",
    "# Close the pool and wait for all processes to finish\n",
    "pool.close()\n",
    "pool.join()"
   ]
  },
  {
   "cell_type": "markdown",
   "metadata": {
    "id": "BrqSc3fZ6b2f"
   },
   "source": [
    "The within-cluster sum of squares (WCSS) is a measure of the variability of the observations within each cluster. In general, a cluster that has a small WCSS is more compact than a cluster that has a large WCSS."
   ]
  },
  {
   "cell_type": "code",
   "execution_count": 10,
   "metadata": {
    "colab": {
     "base_uri": "https://localhost:8080/",
     "height": 465
    },
    "id": "u1SlLxSe6FXv",
    "outputId": "ea4f33d6-64cf-427c-c8d3-2c39690976e1"
   },
   "outputs": [
    {
     "data": {
      "image/png": "[encoded data removed]",
      "text/plain": [
       "<Figure size 640x480 with 1 Axes>"
      ]
     },
     "metadata": {},
     "output_type": "display_data"
    }
   ],
   "source": [
    "plt.scatter(separation_scores, cramer_v_scores)\n",
    "plt.xlabel('Separation Score')\n",
    "plt.ylabel('Cramer\\'s V Score')\n",
    "plt.show()"
   ]
  },
  {
   "cell_type": "code",
   "execution_count": 11,
   "metadata": {
    "colab": {
     "base_uri": "https://localhost:8080/"
    },
    "id": "sqLAwN1wS2iH",
    "outputId": "6e81333e-3222-49c2-8a14-a116c9f19604"
   },
   "outputs": [
    {
     "data": {
      "text/plain": [
       "9"
      ]
     },
     "execution_count": 11,
     "metadata": {},
     "output_type": "execute_result"
    }
   ],
   "source": [
    "# Find k value with highest Cramer's V score\n",
    "best_k = k_values[np.argmax(cramer_v_scores)]\n",
    "best_k "
   ]
  },
  {
   "cell_type": "code",
   "execution_count": 12,
   "metadata": {
    "colab": {
     "base_uri": "https://localhost:8080/",
     "height": 75
    },
    "id": "xRjDZVfgTEYd",
    "outputId": "c24b4a84-fb3c-485c-804c-e1b91a869621"
   },
   "outputs": [
    {
     "data": {
      "text/html": [
       "<style>#sk-container-id-1 {color: black;background-color: white;}#sk-container-id-1 pre{padding: 0;}#sk-container-id-1 div.sk-toggleable {background-color: white;}#sk-container-id-1 label.sk-toggleable__label {cursor: pointer;display: block;width: 100%;margin-bottom: 0;padding: 0.3em;box-sizing: border-box;text-align: center;}#sk-container-id-1 label.sk-toggleable__label-arrow:before {content: \"▸\";float: left;margin-right: 0.25em;color: #696969;}#sk-container-id-1 label.sk-toggleable__label-arrow:hover:before {color: black;}#sk-container-id-1 div.sk-estimator:hover label.sk-toggleable__label-arrow:before {color: black;}#sk-container-id-1 div.sk-toggleable__content {max-height: 0;max-width: 0;overflow: hidden;text-align: left;background-color: #f0f8ff;}#sk-container-id-1 div.sk-toggleable__content pre {margin: 0.2em;color: black;border-radius: 0.25em;background-color: #f0f8ff;}#sk-container-id-1 input.sk-toggleable__control:checked~div.sk-toggleable__content {max-height: 200px;max-width: 100%;overflow: auto;}#sk-container-id-1 input.sk-toggleable__control:checked~label.sk-toggleable__label-arrow:before {content: \"▾\";}#sk-container-id-1 div.sk-estimator input.sk-toggleable__control:checked~label.sk-toggleable__label {background-color: #d4ebff;}#sk-container-id-1 div.sk-label input.sk-toggleable__control:checked~label.sk-toggleable__label {background-color: #d4ebff;}#sk-container-id-1 input.sk-hidden--visually {border: 0;clip: rect(1px 1px 1px 1px);clip: rect(1px, 1px, 1px, 1px);height: 1px;margin: -1px;overflow: hidden;padding: 0;position: absolute;width: 1px;}#sk-container-id-1 div.sk-estimator {font-family: monospace;background-color: #f0f8ff;border: 1px dotted black;border-radius: 0.25em;box-sizing: border-box;margin-bottom: 0.5em;}#sk-container-id-1 div.sk-estimator:hover {background-color: #d4ebff;}#sk-container-id-1 div.sk-parallel-item::after {content: \"\";width: 100%;border-bottom: 1px solid gray;flex-grow: 1;}#sk-container-id-1 div.sk-label:hover label.sk-toggleable__label {background-color: #d4ebff;}#sk-container-id-1 div.sk-serial::before {content: \"\";position: absolute;border-left: 1px solid gray;box-sizing: border-box;top: 0;bottom: 0;left: 50%;z-index: 0;}#sk-container-id-1 div.sk-serial {display: flex;flex-direction: column;align-items: center;background-color: white;padding-right: 0.2em;padding-left: 0.2em;position: relative;}#sk-container-id-1 div.sk-item {position: relative;z-index: 1;}#sk-container-id-1 div.sk-parallel {display: flex;align-items: stretch;justify-content: center;background-color: white;position: relative;}#sk-container-id-1 div.sk-item::before, #sk-container-id-1 div.sk-parallel-item::before {content: \"\";position: absolute;border-left: 1px solid gray;box-sizing: border-box;top: 0;bottom: 0;left: 50%;z-index: -1;}#sk-container-id-1 div.sk-parallel-item {display: flex;flex-direction: column;z-index: 1;position: relative;background-color: white;}#sk-container-id-1 div.sk-parallel-item:first-child::after {align-self: flex-end;width: 50%;}#sk-container-id-1 div.sk-parallel-item:last-child::after {align-self: flex-start;width: 50%;}#sk-container-id-1 div.sk-parallel-item:only-child::after {width: 0;}#sk-container-id-1 div.sk-dashed-wrapped {border: 1px dashed gray;margin: 0 0.4em 0.5em 0.4em;box-sizing: border-box;padding-bottom: 0.4em;background-color: white;}#sk-container-id-1 div.sk-label label {font-family: monospace;font-weight: bold;display: inline-block;line-height: 1.2em;}#sk-container-id-1 div.sk-label-container {text-align: center;}#sk-container-id-1 div.sk-container {/* jupyter's `normalize.less` sets `[hidden] { display: none; }` but bootstrap.min.css set `[hidden] { display: none !important; }` so we also need the `!important` here to be able to override the default hidden behavior on the sphinx rendered scikit-learn.org. See: https://github.com/scikit-learn/scikit-learn/issues/21755 */display: inline-block !important;position: relative;}#sk-container-id-1 div.sk-text-repr-fallback {display: none;}</style><div id=\"sk-container-id-1\" class=\"sk-top-container\"><div class=\"sk-text-repr-fallback\"><pre>KMeans(n_clusters=9, n_init=500, random_state=42)</pre><b>In a Jupyter environment, please rerun this cell to show the HTML representation or trust the notebook. <br />On GitHub, the HTML representation is unable to render, please try loading this page with nbviewer.org.</b></div><div class=\"sk-container\" hidden><div class=\"sk-item\"><div class=\"sk-estimator sk-toggleable\"><input class=\"sk-toggleable__control sk-hidden--visually\" id=\"sk-estimator-id-1\" type=\"checkbox\" checked><label for=\"sk-estimator-id-1\" class=\"sk-toggleable__label sk-toggleable__label-arrow\">KMeans</label><div class=\"sk-toggleable__content\"><pre>KMeans(n_clusters=9, n_init=500, random_state=42)</pre></div></div></div></div></div>"
      ],
      "text/plain": [
       "KMeans(n_clusters=9, n_init=500, random_state=42)"
      ]
     },
     "execution_count": 12,
     "metadata": {},
     "output_type": "execute_result"
    }
   ],
   "source": [
    "best_kmeans = KMeans(n_clusters=best_k, n_init=500, random_state=42)\n",
    "best_kmeans.fit(X_scaled)"
   ]
  },
  {
   "cell_type": "code",
   "execution_count": 13,
   "metadata": {
    "id": "J9XKNl7EWu4E"
   },
   "outputs": [],
   "source": [
    "# Get cluster labels and add to original data\n",
    "new_df['cluster_label'] = best_kmeans.labels_\n"
   ]
  },
  {
   "cell_type": "code",
   "execution_count": 14,
   "metadata": {
    "id": "CHkfS0lxW7hY"
   },
   "outputs": [],
   "source": [
    "y_predict=best_kmeans.fit_predict(X_scaled)\n",
    "\n"
   ]
  },
  {
   "cell_type": "code",
   "execution_count": 25,
   "metadata": {
    "colab": {
     "base_uri": "https://localhost:8080/"
    },
    "id": "QQiEitz7hFi4",
    "outputId": "3f1f2064-a7fd-4c0f-badd-7cfc8e399a9f"
   },
   "outputs": [
    {
     "data": {
      "text/plain": [
       "array([1, 5, 1, ..., 1, 1, 1], dtype=int32)"
      ]
     },
     "execution_count": 25,
     "metadata": {},
     "output_type": "execute_result"
    }
   ],
   "source": [
    "y_predict"
   ]
  },
  {
   "cell_type": "code",
   "execution_count": 22,
   "metadata": {
    "colab": {
     "base_uri": "https://localhost:8080/"
    },
    "id": "WxqpOnYnhhFY",
    "outputId": "fd2ac135-f63e-49f6-8513-70c06cb2d968"
   },
   "outputs": [
    {
     "name": "stdout",
     "output_type": "stream",
     "text": [
      "Silhouette Score: 0.25562293706728884\n",
      "Calinski-Harabasz Index: 986.4104538840079\n",
      "Davies-Bouldin Index: 2.340730112606318\n"
     ]
    }
   ],
   "source": [
    "from sklearn.metrics import silhouette_score, calinski_harabasz_score, davies_bouldin_score\n",
    "# Calculate the Silhouette Score\n",
    "silhouette = silhouette_score(X_scaled, y_predict)\n",
    "\n",
    "# Calculate the Calinski-Harabasz Index\n",
    "ch_score = calinski_harabasz_score(X_scaled, y_predict)\n",
    "\n",
    "# Calculate the Davies-Bouldin Index\n",
    "db_score = davies_bouldin_score(X_scaled, y_predict)\n",
    "\n",
    "# Print the scores\n",
    "print(\"Silhouette Score:\", silhouette)\n",
    "print(\"Calinski-Harabasz Index:\", ch_score)\n",
    "print(\"Davies-Bouldin Index:\", db_score)"
   ]
  }
 ],
 "metadata": {
  "colab": {
   "provenance": []
  },
  "gpuClass": "standard",
  "kernelspec": {
   "display_name": "Python 3 (ipykernel)",
   "language": "python",
   "name": "python3"
  },
  "language_info": {
   "codemirror_mode": {
    "name": "ipython",
    "version": 3
   },
   "file_extension": ".py",
   "mimetype": "text/x-python",
   "name": "python",
   "nbconvert_exporter": "python",
   "pygments_lexer": "ipython3",
   "version": "3.9.7"
  }
 },
 "nbformat": 4,
 "nbformat_minor": 1
}
